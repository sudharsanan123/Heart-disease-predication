{
 "cells": [
  {
   "cell_type": "code",
   "execution_count": 3,
   "metadata": {},
   "outputs": [
    {
     "name": "stdout",
     "output_type": "stream",
     "text": [
      ">lr 0.844 (0.033)\n",
      ">knn 0.751 (0.033)\n",
      ">dt 0.998 (0.007)\n",
      ">svm 0.706 (0.043)\n",
      ">bayes 0.824 (0.045)\n",
      ">stacking 0.999 (0.005)\n"
     ]
    },
    {
     "data": {
      "image/png": "[encoded data removed]",
      "text/plain": [
       "<Figure size 432x288 with 1 Axes>"
      ]
     },
     "metadata": {
      "needs_background": "light"
     },
     "output_type": "display_data"
    }
   ],
   "source": [
    "# Import necessary libraries\n",
    "import numpy as np\n",
    "import pandas as pd\n",
    "from sklearn.datasets import make_classification\n",
    "from sklearn.model_selection import cross_val_score, RepeatedStratifiedKFold\n",
    "from sklearn.linear_model import LogisticRegression\n",
    "from sklearn.neighbors import KNeighborsClassifier\n",
    "from sklearn.tree import DecisionTreeClassifier\n",
    "from sklearn.svm import SVC\n",
    "from sklearn.naive_bayes import GaussianNB\n",
    "from sklearn.ensemble import StackingClassifier\n",
    "from matplotlib import pyplot as plt\n",
    "\n",
    "# Load the heart failure dataset (Replace this with your dataset loading code)\n",
    "def load_heart_failure_data():\n",
    "    # Your code to load the heart failure dataset goes here\n",
    "    # Example: X, y = load_my_heart_failure_data()\n",
    "    df = pd.read_csv('heart.csv')\n",
    "    \n",
    "    X = df.iloc[:, :-1]  # Features\n",
    "    y = df.iloc[:, -1]   # Target variable\n",
    "    return X, y\n",
    "\n",
    "# Define base models\n",
    "def get_base_models():\n",
    "    models = [\n",
    "        ('lr', LogisticRegression()),\n",
    "        ('knn', KNeighborsClassifier()),\n",
    "        ('dt', DecisionTreeClassifier()),\n",
    "        ('svm', SVC()),\n",
    "        ('bayes', GaussianNB())\n",
    "    ]\n",
    "    return models\n",
    "\n",
    "# Evaluate a given model using cross-validation\n",
    "def evaluate_model(model, X, y):\n",
    "    cv = RepeatedStratifiedKFold(n_splits=10, n_repeats=3, random_state=1)\n",
    "    scores = cross_val_score(model, X, y, scoring='accuracy', cv=cv, n_jobs=-1, error_score='raise')\n",
    "    return scores\n",
    "\n",
    "# Main function to run the stacking classifier\n",
    "def main():\n",
    "    # Load the heart failure dataset\n",
    "    X, y = load_heart_failure_data()\n",
    "\n",
    "    # Define base models\n",
    "    base_models = get_base_models()\n",
    "\n",
    "    # Evaluate the base models and store results\n",
    "    results, names = list(), list()\n",
    "    for name, model in base_models:\n",
    "        scores = evaluate_model(model, X, y)\n",
    "        results.append(scores)\n",
    "        names.append(name)\n",
    "        print('>%s %.3f (%.3f)' % (name, np.mean(scores), np.std(scores)))\n",
    "\n",
    "    # Define the stacking classifier\n",
    "    stacking_classifier = StackingClassifier(estimators=base_models, final_estimator=LogisticRegression())\n",
    "\n",
    "    # Evaluate the stacking classifier\n",
    "    stacking_scores = evaluate_model(stacking_classifier, X, y)\n",
    "    results.append(stacking_scores)\n",
    "    names.append('stacking')\n",
    "    print('>%s %.3f (%.3f)' % ('stacking', np.mean(stacking_scores), np.std(stacking_scores)))\n",
    "\n",
    "    # Plot model performance for comparison\n",
    "    plt.boxplot(results, labels=names, showmeans=True)\n",
    "    plt.show()\n",
    "\n",
    "# Run the main function\n",
    "if __name__ == \"__main__\":\n",
    "    main()\n"
   ]
  },
  {
   "cell_type": "code",
   "execution_count": null,
   "metadata": {},
   "outputs": [],
   "source": []
  }
 ],
 "metadata": {
  "kernelspec": {
   "display_name": "Python 3",
   "language": "python",
   "name": "python3"
  },
  "language_info": {
   "codemirror_mode": {
    "name": "ipython",
    "version": 3
   },
   "file_extension": ".py",
   "mimetype": "text/x-python",
   "name": "python",
   "nbconvert_exporter": "python",
   "pygments_lexer": "ipython3",
   "version": "3.7.4"
  }
 },
 "nbformat": 4,
 "nbformat_minor": 2
}
